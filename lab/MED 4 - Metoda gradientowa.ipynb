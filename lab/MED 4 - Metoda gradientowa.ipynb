{
 "cells": [
  {
   "cell_type": "markdown",
   "metadata": {},
   "source": [
    "# LAB 3: Regresja wieloraka"
   ]
  },
  {
   "cell_type": "markdown",
   "metadata": {},
   "source": [
    "Prognozowanie cen domów (wiele zmiennych)\n",
    "\n",
    "W tym notatniku wykorzystamy dane dotyczące sprzedaży domów. Przewidywanie ich ceny zostanie dokonane przy pomocy regresji wielorakiej. Pierwsze zadanie dotyczy eksploracji regresji wielorakiej poprzez opracowanie nowych cech i pomiar błędu. W drugim zadaniu zaimplementować należy algorytm spadku gradientu.\n",
    "\n",
    "     Użyj wbudowanych funkcji tworzenia wykresów (lub w inny sposób), aby obliczyć wagi regresji (współczynniki)\n",
    "     Biorąc pod uwagę wagi regresji, predyktory i wynik napisz funkcję obliczającą resztkową sumę kwadratów\n",
    "     Spójrz na współczynniki i zinterpretuj ich znaczenie\n",
    "     Oceń wiele modeli za pomocą RSS"
   ]
  },
  {
   "cell_type": "markdown",
   "metadata": {},
   "source": [
    "# Potrzebne biblioteki"
   ]
  },
  {
   "cell_type": "code",
   "execution_count": 2,
   "metadata": {},
   "outputs": [],
   "source": [
    "import pandas as pd\n",
    "import numpy as np\n",
    "# dodac wspolczynik liniowy "
   ]
  },
  {
   "cell_type": "markdown",
   "metadata": {},
   "source": [
    "# Wczytanie danych ceny domów \n",
    "\n",
    "Zestaw danych pochodzi ze sprzedaży domów w King County, regionie, w którym znajduje się miasto Seattle w stanie Waszyngton."
   ]
  },
  {
   "cell_type": "code",
   "execution_count": 3,
   "metadata": {
    "scrolled": true
   },
   "outputs": [],
   "source": [
    "dtype_dict = {'bathrooms':float, 'waterfront':int, 'sqft_above':int, 'sqft_living15':float, 'grade':int, 'yr_renovated':int, 'price':float, 'bedrooms':float, 'zipcode':str, 'long':float, 'sqft_lot15':float, 'sqft_living':float, 'floors':str, 'condition':int, 'lat':float, 'date':str, 'sqft_basement':int, 'yr_built':int, 'id':str, 'sqft_lot':int, 'view':int}\n",
    "domy = pd.read_csv('kc_house_data.csv',sep=',', dtype=dtype_dict)"
   ]
  },
  {
   "cell_type": "code",
   "execution_count": 3,
   "metadata": {},
   "outputs": [
    {
     "data": {
      "text/html": [
       "<div>\n",
       "<style scoped>\n",
       "    .dataframe tbody tr th:only-of-type {\n",
       "        vertical-align: middle;\n",
       "    }\n",
       "\n",
       "    .dataframe tbody tr th {\n",
       "        vertical-align: top;\n",
       "    }\n",
       "\n",
       "    .dataframe thead th {\n",
       "        text-align: right;\n",
       "    }\n",
       "</style>\n",
       "<table border=\"1\" class=\"dataframe\">\n",
       "  <thead>\n",
       "    <tr style=\"text-align: right;\">\n",
       "      <th></th>\n",
       "      <th>id</th>\n",
       "      <th>date</th>\n",
       "      <th>price</th>\n",
       "      <th>bedrooms</th>\n",
       "      <th>bathrooms</th>\n",
       "      <th>sqft_living</th>\n",
       "      <th>sqft_lot</th>\n",
       "      <th>floors</th>\n",
       "      <th>waterfront</th>\n",
       "      <th>view</th>\n",
       "      <th>...</th>\n",
       "      <th>grade</th>\n",
       "      <th>sqft_above</th>\n",
       "      <th>sqft_basement</th>\n",
       "      <th>yr_built</th>\n",
       "      <th>yr_renovated</th>\n",
       "      <th>zipcode</th>\n",
       "      <th>lat</th>\n",
       "      <th>long</th>\n",
       "      <th>sqft_living15</th>\n",
       "      <th>sqft_lot15</th>\n",
       "    </tr>\n",
       "  </thead>\n",
       "  <tbody>\n",
       "    <tr>\n",
       "      <th>0</th>\n",
       "      <td>7129300520</td>\n",
       "      <td>20141013T000000</td>\n",
       "      <td>221900.0</td>\n",
       "      <td>3.0</td>\n",
       "      <td>1.00</td>\n",
       "      <td>1180.0</td>\n",
       "      <td>5650</td>\n",
       "      <td>1</td>\n",
       "      <td>0</td>\n",
       "      <td>0</td>\n",
       "      <td>...</td>\n",
       "      <td>7</td>\n",
       "      <td>1180</td>\n",
       "      <td>0</td>\n",
       "      <td>1955</td>\n",
       "      <td>0</td>\n",
       "      <td>98178</td>\n",
       "      <td>47.5112</td>\n",
       "      <td>-122.257</td>\n",
       "      <td>1340.0</td>\n",
       "      <td>5650.0</td>\n",
       "    </tr>\n",
       "    <tr>\n",
       "      <th>1</th>\n",
       "      <td>6414100192</td>\n",
       "      <td>20141209T000000</td>\n",
       "      <td>538000.0</td>\n",
       "      <td>3.0</td>\n",
       "      <td>2.25</td>\n",
       "      <td>2570.0</td>\n",
       "      <td>7242</td>\n",
       "      <td>2</td>\n",
       "      <td>0</td>\n",
       "      <td>0</td>\n",
       "      <td>...</td>\n",
       "      <td>7</td>\n",
       "      <td>2170</td>\n",
       "      <td>400</td>\n",
       "      <td>1951</td>\n",
       "      <td>1991</td>\n",
       "      <td>98125</td>\n",
       "      <td>47.7210</td>\n",
       "      <td>-122.319</td>\n",
       "      <td>1690.0</td>\n",
       "      <td>7639.0</td>\n",
       "    </tr>\n",
       "    <tr>\n",
       "      <th>2</th>\n",
       "      <td>5631500400</td>\n",
       "      <td>20150225T000000</td>\n",
       "      <td>180000.0</td>\n",
       "      <td>2.0</td>\n",
       "      <td>1.00</td>\n",
       "      <td>770.0</td>\n",
       "      <td>10000</td>\n",
       "      <td>1</td>\n",
       "      <td>0</td>\n",
       "      <td>0</td>\n",
       "      <td>...</td>\n",
       "      <td>6</td>\n",
       "      <td>770</td>\n",
       "      <td>0</td>\n",
       "      <td>1933</td>\n",
       "      <td>0</td>\n",
       "      <td>98028</td>\n",
       "      <td>47.7379</td>\n",
       "      <td>-122.233</td>\n",
       "      <td>2720.0</td>\n",
       "      <td>8062.0</td>\n",
       "    </tr>\n",
       "    <tr>\n",
       "      <th>3</th>\n",
       "      <td>2487200875</td>\n",
       "      <td>20141209T000000</td>\n",
       "      <td>604000.0</td>\n",
       "      <td>4.0</td>\n",
       "      <td>3.00</td>\n",
       "      <td>1960.0</td>\n",
       "      <td>5000</td>\n",
       "      <td>1</td>\n",
       "      <td>0</td>\n",
       "      <td>0</td>\n",
       "      <td>...</td>\n",
       "      <td>7</td>\n",
       "      <td>1050</td>\n",
       "      <td>910</td>\n",
       "      <td>1965</td>\n",
       "      <td>0</td>\n",
       "      <td>98136</td>\n",
       "      <td>47.5208</td>\n",
       "      <td>-122.393</td>\n",
       "      <td>1360.0</td>\n",
       "      <td>5000.0</td>\n",
       "    </tr>\n",
       "    <tr>\n",
       "      <th>4</th>\n",
       "      <td>1954400510</td>\n",
       "      <td>20150218T000000</td>\n",
       "      <td>510000.0</td>\n",
       "      <td>3.0</td>\n",
       "      <td>2.00</td>\n",
       "      <td>1680.0</td>\n",
       "      <td>8080</td>\n",
       "      <td>1</td>\n",
       "      <td>0</td>\n",
       "      <td>0</td>\n",
       "      <td>...</td>\n",
       "      <td>8</td>\n",
       "      <td>1680</td>\n",
       "      <td>0</td>\n",
       "      <td>1987</td>\n",
       "      <td>0</td>\n",
       "      <td>98074</td>\n",
       "      <td>47.6168</td>\n",
       "      <td>-122.045</td>\n",
       "      <td>1800.0</td>\n",
       "      <td>7503.0</td>\n",
       "    </tr>\n",
       "  </tbody>\n",
       "</table>\n",
       "<p>5 rows × 21 columns</p>\n",
       "</div>"
      ],
      "text/plain": [
       "           id             date     price  bedrooms  bathrooms  sqft_living  \\\n",
       "0  7129300520  20141013T000000  221900.0       3.0       1.00       1180.0   \n",
       "1  6414100192  20141209T000000  538000.0       3.0       2.25       2570.0   \n",
       "2  5631500400  20150225T000000  180000.0       2.0       1.00        770.0   \n",
       "3  2487200875  20141209T000000  604000.0       4.0       3.00       1960.0   \n",
       "4  1954400510  20150218T000000  510000.0       3.0       2.00       1680.0   \n",
       "\n",
       "   sqft_lot floors  waterfront  view  ...  grade  sqft_above  sqft_basement  \\\n",
       "0      5650      1           0     0  ...      7        1180              0   \n",
       "1      7242      2           0     0  ...      7        2170            400   \n",
       "2     10000      1           0     0  ...      6         770              0   \n",
       "3      5000      1           0     0  ...      7        1050            910   \n",
       "4      8080      1           0     0  ...      8        1680              0   \n",
       "\n",
       "   yr_built  yr_renovated  zipcode      lat     long  sqft_living15  \\\n",
       "0      1955             0    98178  47.5112 -122.257         1340.0   \n",
       "1      1951          1991    98125  47.7210 -122.319         1690.0   \n",
       "2      1933             0    98028  47.7379 -122.233         2720.0   \n",
       "3      1965             0    98136  47.5208 -122.393         1360.0   \n",
       "4      1987             0    98074  47.6168 -122.045         1800.0   \n",
       "\n",
       "   sqft_lot15  \n",
       "0      5650.0  \n",
       "1      7639.0  \n",
       "2      8062.0  \n",
       "3      5000.0  \n",
       "4      7503.0  \n",
       "\n",
       "[5 rows x 21 columns]"
      ]
     },
     "execution_count": 3,
     "metadata": {},
     "output_type": "execute_result"
    }
   ],
   "source": [
    "domy.head(5)"
   ]
  },
  {
   "cell_type": "markdown",
   "metadata": {},
   "source": [
    "# Podziel dane na uczące i testowe.\n",
    "Używamy seed = 0, aby każdy, kto korzysta z tego notebooka, uzyskał te same wyniki. W praktyce możesz ustawić losowy podział."
   ]
  },
  {
   "cell_type": "code",
   "execution_count": 4,
   "metadata": {},
   "outputs": [
    {
     "data": {
      "text/plain": [
       "array(['id', 'date', 'bedrooms', 'bathrooms', 'sqft_living', 'sqft_lot',\n",
       "       'floors', 'waterfront', 'view', 'condition', 'grade', 'sqft_above',\n",
       "       'sqft_basement', 'yr_built', 'yr_renovated', 'zipcode', 'lat',\n",
       "       'long', 'sqft_living15', 'sqft_lot15'], dtype=object)"
      ]
     },
     "execution_count": 4,
     "metadata": {},
     "output_type": "execute_result"
    }
   ],
   "source": [
    "y = domy['price']\n",
    "X = domy.drop(['price'], axis=1)\n",
    "features = X.columns.values\n",
    "features "
   ]
  },
  {
   "cell_type": "code",
   "execution_count": 5,
   "metadata": {},
   "outputs": [],
   "source": [
    "from sklearn.model_selection import train_test_split\n",
    "X_train, X_test, y_train, y_test = train_test_split(X, y, test_size=0.2, random_state=0)"
   ]
  },
  {
   "cell_type": "markdown",
   "metadata": {},
   "source": [
    "# Nauka modelu regresji wielorakiej"
   ]
  },
  {
   "cell_type": "markdown",
   "metadata": {},
   "source": [
    "Wykorzystując cechy 'sqft_living', 'bedrooms', 'bathrooms' uczymy nasz model."
   ]
  },
  {
   "cell_type": "code",
   "execution_count": 6,
   "metadata": {},
   "outputs": [
    {
     "data": {
      "text/plain": [
       "(3,)"
      ]
     },
     "execution_count": 6,
     "metadata": {},
     "output_type": "execute_result"
    }
   ],
   "source": [
    "example_features = ['sqft_living', 'bedrooms', 'bathrooms']\n",
    "pinw = np.linalg.pinv(X_train[example_features])\n",
    "w = np.dot(pinw,y_train)\n",
    "w.shape"
   ]
  },
  {
   "cell_type": "markdown",
   "metadata": {},
   "source": [
    "Po dopasowaniu modelu możemy wyodrębnić współczynniki (wagi) modelu regresji:"
   ]
  },
  {
   "cell_type": "code",
   "execution_count": 7,
   "metadata": {},
   "outputs": [
    {
     "name": "stdout",
     "output_type": "stream",
     "text": [
      "Otrzymane współczynniki: [   308.54966331 -41754.38204544  17354.12106635]\n"
     ]
    }
   ],
   "source": [
    "print('Otrzymane współczynniki:', w)"
   ]
  },
  {
   "cell_type": "markdown",
   "metadata": {},
   "source": [
    "# Przewidywanie wartości modelu\n",
    "\n",
    "Mając wyliczone parametry modelu napisz funkcję do przewidywania wartości dla zadanego modelu"
   ]
  },
  {
   "cell_type": "code",
   "execution_count": 8,
   "metadata": {},
   "outputs": [
    {
     "name": "stdout",
     "output_type": "stream",
     "text": [
      "[376513.94632314 467340.55721729 237087.16846861 ... 641960.83166918\n",
      " 598953.41599022 606377.44288989]\n",
      "0        221900.0\n",
      "1        538000.0\n",
      "2        180000.0\n",
      "3        604000.0\n",
      "4        510000.0\n",
      "           ...   \n",
      "21608    360000.0\n",
      "21609    400000.0\n",
      "21610    402101.0\n",
      "21611    400000.0\n",
      "21612    325000.0\n",
      "Name: price, Length: 21613, dtype: float64\n"
     ]
    }
   ],
   "source": [
    "def predict_output(w,X):\n",
    "    # return  np.dot(w, X.T)\n",
    "    return  np.dot(X, w) \n",
    "\n",
    "\n",
    "X = X_train[example_features]\n",
    "prediction = predict_output(w,X)\n",
    "print(prediction)\n",
    "print(y)\n"
   ]
  },
  {
   "cell_type": "markdown",
   "metadata": {},
   "source": [
    "# Wyliczamy błąd (SSE -  sum of squared estimate of errors)"
   ]
  },
  {
   "cell_type": "markdown",
   "metadata": {},
   "source": [
    "Teraz, gdy możemy wykonać przewidywania na podstawie modelu, napiszmy funkcję obliczającą RSS modelu. Wykonaj poniższą funkcję, aby obliczy sumę kwadratów błędu estymacji (SSE) na podstawie modelu, danych i wyniku."
   ]
  },
  {
   "cell_type": "code",
   "execution_count": 9,
   "metadata": {
    "collapsed": true
   },
   "outputs": [],
   "source": [
    "def policz_SSE(model, data, outcome):\n",
    "    # Wylicz przewidywaną wartość\n",
    "    prediction = predict_output(model,data)\n",
    "    # Policz błąd bezwzglęny\n",
    "    ralitive_error = abs(prediction - outcome)\n",
    "    # Podnieś błędy do kwadratu i zsumuj je\n",
    "    SSE = sum (ralitive_error**2) \n",
    "    return(SSE)    "
   ]
  },
  {
   "cell_type": "markdown",
   "metadata": {},
   "source": [
    "Przetestuj swoją funkcję obliczając błąd SSE z danych TEST dla przykładowego modelu:"
   ]
  },
  {
   "cell_type": "code",
   "execution_count": 10,
   "metadata": {},
   "outputs": [
    {
     "name": "stdout",
     "output_type": "stream",
     "text": [
      "261738485259246.44\n"
     ]
    }
   ],
   "source": [
    "przykladowe_rss = policz_SSE(w, X_test[example_features], y_test)\n",
    "print(przykladowe_rss) "
   ]
  },
  {
   "cell_type": "markdown",
   "metadata": {},
   "source": [
    "# Utwórz nowe cechy"
   ]
  },
  {
   "cell_type": "markdown",
   "metadata": {},
   "source": [
    "Mimo iż nasz model regresji wielorakiej obejmuje wiele różnych cech (np. ilosc_sypiani, powierzchnia i ilosc_lazienek) możemy również rozważyć przekształcenie istniejących cech, np. log(powierzchnia), czy nawet mnożenie ilości sypialni i łazienek."
   ]
  },
  {
   "cell_type": "markdown",
   "metadata": {},
   "source": [
    "Użyjemy funkcji logarytmu, aby utworzyć nowe cechy, więc najpierw powinieneś importujemy ją z biblioteki matematycznej."
   ]
  },
  {
   "cell_type": "code",
   "execution_count": 11,
   "metadata": {},
   "outputs": [],
   "source": [
    "from math import log\n"
   ]
  },
  {
   "cell_type": "markdown",
   "metadata": {},
   "source": [
    "Następnie utwórz następujące 4 nowe cechy jako kolumny w danych TRENINGOWYCH i TESTOWYCH:\n",
    "* bedrooms_squared = bedrooms\\*bedrooms\n",
    "* bed_bath_rooms = bedrooms\\*bathrooms\n",
    "* log_sqft_living = log(sqft_living)\n",
    "* lat_plus_long = lat + lat \n",
    "Jako przykład oto pierwsza:"
   ]
  },
  {
   "cell_type": "code",
   "execution_count": 12,
   "metadata": {},
   "outputs": [],
   "source": [
    "X_train['bedrooms_squared'] = X_train['bedrooms'].apply(lambda x: x**2)\n",
    "X_test['bedrooms_squared'] = X_test['bedrooms'].apply(lambda x: x**2)"
   ]
  },
  {
   "cell_type": "code",
   "execution_count": 13,
   "metadata": {},
   "outputs": [],
   "source": [
    "# utwórz pozostałe 3 funkcje zarówno w danych TRENINGOWYCH, jak i TESTOWYCH\n",
    "X_train['bed_bath_rooms'] = X_train['bedrooms'] * X_train['bathrooms']\n",
    "X_test['bed_bath_rooms'] = X_test['bedrooms'] * X_test['bathrooms']\n",
    "X_train['log_sqft_living'] = np.log(X_train['sqft_living']) \n",
    "X_test['log_sqft_living'] = np.log(X_test['sqft_living'])\n",
    "X_train['lat_plus_long'] = X_train['lat'] + X_train['lat']\n",
    "X_test['lat_plus_long'] = X_test['lat'] + X_test['long']"
   ]
  },
  {
   "cell_type": "markdown",
   "metadata": {},
   "source": [
    "* Kwadrat sypialni zwiększa separację między nielicznymi sypialniami (np. 1) i wieloma sypialniami (np. 4), ponieważ 1 ^ 2 = 1, ale 4 ^ 2 = 16. W konsekwencji ta funkcja będzie miała wpływ głównie na domy z wieloma sypialniami.\n",
    "* Sypialnia razy łazienka daje tak zwaną funkcję „interakcji”. Wynik jest wysoki, gdy  wartościu *obu* cech są duże.\n",
    "* Przejęcie logarytmu stóp kwadratowych powoduje zbliżenie dużych wartości i rozłożenie małych wartości. Wynika to z reguły prawoskośności posiadanych danych/posiadanego atrybutu.\n",
    "* Dodawanie szerokości do długości geograficznej jest całkowicie bezsensowne, ale i tak to zrobimy (zobaczymy później dlaczego)"
   ]
  },
  {
   "cell_type": "markdown",
   "metadata": {},
   "source": [
    "**Pytanie quizu: Jaka jest średnia (średnia arytmetyczna) twoich 4 nowych funkcji w danych TEST? (w zaokrągleniu do 2 cyfr)**"
   ]
  },
  {
   "cell_type": "code",
   "execution_count": 14,
   "metadata": {
    "collapsed": true
   },
   "outputs": [
    {
     "data": {
      "text/plain": [
       "bedrooms_squared     12.21\n",
       "bed_bath_rooms        7.45\n",
       "log_sqft_living       7.55\n",
       "lat_plus_long       -74.65\n",
       "dtype: object"
      ]
     },
     "execution_count": 14,
     "metadata": {},
     "output_type": "execute_result"
    }
   ],
   "source": [
    "X_test.iloc[:,-4:].mean().map('{:,.2f}'.format)"
   ]
  },
  {
   "cell_type": "markdown",
   "metadata": {},
   "source": [
    "# Uczenie wielu modeli"
   ]
  },
  {
   "cell_type": "markdown",
   "metadata": {},
   "source": [
    "Teraz poznamy wagi trzech (zagnieżdżonych) modeli do przewidywania cen domów. Pierwszy model będzie miał najmniej cech, drugi model doda jedną cechę, a trzeci doda jeszcze kilka:\n",
    "* Model 1: squarefeet, # bedrooms, # bathrooms, latitude & longitude\n",
    "* Model 2: + bedrooms\\*bathrooms\n",
    "* Model 3: + log squarefeet, bedrooms squared, i (bezsensowne) latitude + longitude"
   ]
  },
  {
   "cell_type": "code",
   "execution_count": 15,
   "metadata": {
    "collapsed": true
   },
   "outputs": [],
   "source": [
    "model_1_features = ['sqft_living', 'bedrooms', 'bathrooms', 'lat', 'long']\n",
    "model_2_features = model_1_features + ['bed_bath_rooms']\n",
    "model_3_features = model_2_features + ['bedrooms_squared', 'log_sqft_living', 'lat_plus_long']"
   ]
  },
  {
   "cell_type": "markdown",
   "metadata": {},
   "source": [
    "Teraz, gdy mamy już cechy, poznaj wagi trzech różnych modeli do przewidywania docelowej = „ceny” za pomocą funkcji model_train i spójrz na wartość wag/współczynników:"
   ]
  },
  {
   "cell_type": "code",
   "execution_count": 16,
   "metadata": {},
   "outputs": [],
   "source": [
    "# Funkcja szukająca współczynników modelu\n",
    "def model_train(X_train, Y_train):\n",
    "    # Wylicz współczynniki modelu wykorzystując pseudoodwrotność\n",
    "    pinw = np.linalg.pinv(X_train)\n",
    "    model = np.dot(pinw,Y_train)\n",
    "    return(model)"
   ]
  },
  {
   "cell_type": "code",
   "execution_count": 17,
   "metadata": {
    "collapsed": true
   },
   "outputs": [],
   "source": [
    "# Wyucz 3 modele:\n",
    "model_1 = model_train(X_train[model_1_features],y_train)\n",
    "model_2 = model_train(X_train[model_2_features],y_train)\n",
    "model_3 = model_train(X_train[model_3_features],y_train)"
   ]
  },
  {
   "cell_type": "code",
   "execution_count": 18,
   "metadata": {
    "collapsed": true
   },
   "outputs": [
    {
     "name": "stdout",
     "output_type": "stream",
     "text": [
      "[ 3.00159310e+02 -5.23689819e+04  4.58247068e+03  5.29238529e+05\n",
      "  2.05262847e+05]\n",
      "[ 2.92464746e+02 -1.21761358e+05 -1.09383881e+05  5.30036632e+05\n",
      "  2.03619080e+05  3.35897011e+04]\n",
      "[ 5.55032435e+02  1.34221113e+03  8.84250144e+04  1.08688195e+05\n",
      "  1.77276220e+05 -1.60202196e+04  8.18714827e+02 -6.45602857e+05\n",
      "  2.17376390e+05]\n"
     ]
    }
   ],
   "source": [
    "# Wyświetl wagi współczynników modelu:\n",
    "print(model_1)\n",
    "print(model_2)\n",
    "print(model_3)\n"
   ]
  },
  {
   "cell_type": "markdown",
   "metadata": {},
   "source": [
    "**Quiz: Jaki jest znak (dodatni lub ujemny) dla współczynnika/wagi dla „łazienek” w modelu 1?**\n",
    "\n",
    "**Quiz: Jaki jest znak (dodatni lub ujemny) dla współczynnika/wagi dla „łazienek” w modelu 2?**\n",
    "\n",
    "Zastanów się, co to znaczy."
   ]
  },
  {
   "cell_type": "markdown",
   "metadata": {},
   "source": [
    "Dla pierwszego modelu 1 : dodatni\n",
    "\n",
    "Dla pierwszego modelu 2 : ujemny\n",
    "\n",
    "Może to oznaczać, ze wazniejsze dla wzrostu ceny jest interakcja lazienek i pokój, niż sama ilośc lazienek. Współczynik/wagi łazienki jest ujemny w drugim modelu, dlatego, że ilość łazienek jest brana również pod uwagę w współczyniku/wagi bed_bath_rooms."
   ]
  },
  {
   "cell_type": "markdown",
   "metadata": {},
   "source": [
    "# Porównywanie wielu modeli\n",
    "\n",
    "Teraz, gdy otrzymaliśmy trzy modele i wyodrębniliśmy wagi modeli, chcemy ocenić, który model jest najlepszy."
   ]
  },
  {
   "cell_type": "markdown",
   "metadata": {},
   "source": [
    "Używając wcześniej naopisanych funkcji obliczy SSE dla danych uczących dla każdego z trzech modeli."
   ]
  },
  {
   "cell_type": "code",
   "execution_count": 19,
   "metadata": {},
   "outputs": [
    {
     "name": "stdout",
     "output_type": "stream",
     "text": [
      "1082381909711006.1\n",
      "1065791753438922.6\n",
      "991825573399597.5\n"
     ]
    }
   ],
   "source": [
    "# Policz SSE na danych TRENINGOWYCH dla każdeg z 3 modeli i zapisz wartości:\n",
    "rss_1_train = policz_SSE(model_1, X_train[model_1_features], y_train)\n",
    "rss_2_train = policz_SSE(model_2, X_train[model_2_features], y_train)\n",
    "rss_3_train = policz_SSE(model_3, X_train[model_3_features], y_train)\n",
    "print(rss_1_train)\n",
    "print(rss_2_train)\n",
    "print(rss_3_train)\n"
   ]
  },
  {
   "cell_type": "markdown",
   "metadata": {},
   "source": [
    "**Quiz: Który model (1, 2 lub 3) ma najniższy poziom SSE na danych TRENINGOWYCH?** Czy tego się spodziewałeś/-łaś?"
   ]
  },
  {
   "cell_type": "markdown",
   "metadata": {},
   "source": [
    "Najniszy poziom ma model 2, spodziewał sie modelu 3. Wynika to z faktu, że w modelu 3 jest za dużo  atrybutów zależnych od siebie. "
   ]
  },
  {
   "cell_type": "markdown",
   "metadata": {},
   "source": [
    "Teraz obliczyć SSE na danych TEST dla każdego z trzech modeli."
   ]
  },
  {
   "cell_type": "code",
   "execution_count": 20,
   "metadata": {},
   "outputs": [
    {
     "name": "stdout",
     "output_type": "stream",
     "text": [
      "233700269953885.84\n",
      "229575356886062.9\n",
      "5.885254952052211e+18\n"
     ]
    }
   ],
   "source": [
    "# Teraz obliczyć SSE na danych TEST dla każdego z trzech modeli i zapisz wartości:\n",
    "rss_1_test = policz_SSE(model_1, X_test[model_1_features], y_test)\n",
    "rss_2_test = policz_SSE(model_2, X_test[model_2_features], y_test)\n",
    "rss_3_test = policz_SSE(model_3, X_test[model_3_features], y_test)\n",
    "print(rss_1_test)\n",
    "print(rss_2_test)\n",
    "print(rss_3_test)"
   ]
  },
  {
   "cell_type": "markdown",
   "metadata": {},
   "source": [
    "**Quiz: Który model (1, 2 lub 3) ma najniższy poziom SSE na danych TESTOWYCH?** Czy tego się spodziewałeś/-łaś? Pomyśl o cechach, które zostały dodane do każdego z modeli."
   ]
  },
  {
   "cell_type": "markdown",
   "metadata": {},
   "source": [
    "Również model drugi, wynika z faktu, że interakcja miedzy ilościa lazienek a pokojami jest bardzo ważna."
   ]
  },
  {
   "cell_type": "markdown",
   "metadata": {
    "collapsed": true
   },
   "source": [
    "# Policz pochodną"
   ]
  },
  {
   "cell_type": "markdown",
   "metadata": {},
   "source": [
    "Przejdziemy teraz do obliczania pochodnej funkcji kosztu regresji. Przypomnij sobie, że funkcja kosztu jest sumą kwadratów różnic między punktami danych a przewidywanym wynikiem.\n",
    "\n",
    "Ponieważ pochodna sumy jest sumą pochodnych, możemy obliczyć pochodną dla pojedynczego punktu danych, a następnie zsumować na podstawie punktów danych. Możemy zapisać kwadratową różnicę między obserwowanym a przewidywanym wynikiem dla pojedynczego punktu w następujący sposób:\n",
    "\n",
    "(w[0]\\*[CONSTANT] + w[1]\\*[cecha_1] + ... + w[i] \\*[cecha_i] + ... +  w[k]\\*[cecha_k] - output)^2\n",
    "\n",
    "Gdzie mamy *k* cech i stałą. Tak więc pochodną w odniesieniu do wagi w[i] według reguły łańcucha jest:\n",
    "\n",
    "2\\*(w[0]\\*[CONSTANT] + w[1]\\*[cecha_1] + ... + w[i] \\*[cecha_i] + ... +  w[k]\\*[cecha_k] - output)\\* [cecha_i]\n",
    "\n",
    "Pojęcie w nawiasach to tylko błąd (różnica między prognozowaniem a wyjściem). Możemy więc ponownie napisać to jako:\n",
    "\n",
    "2\\*error\\*[cecha_i]\n",
    "\n",
    "Oznacza to, że pochodną wagi cechy *i* jest suma (ponad punkty danych) 2-krotności iloczynu błędu i samej cechy. W przypadku stałej jest to tylko dwukrotność sumy błędów!\n",
    "\n",
    "Przypomnijmy, że dwukrotność sumy iloczynu dwóch wektorów jest tylko dwukrotnością iloczynu dwóch wektorów. Dlatego pochodna wagi dla *cechy_i* jest tylko dwukrotnością iloczynu między wartościami *cechy_i* a bieżącymi błędami.\n",
    "\n",
    "Mając to na uwadze, należy wykonać następującą funkcję pochodną, która oblicza pochodną współczynnika na podstawie wartości cechy (we wszystkich punktach danych) i błędów (we wszystkich punktach danych)."
   ]
  },
  {
   "cell_type": "code",
   "execution_count": 21,
   "metadata": {},
   "outputs": [],
   "source": [
    "def feature_derivative(errors, feature):\n",
    "    # Oblicz podwojony iloczyn cech i błędów, a następnie zwróć otrzymną wartość\n",
    "    derivative = sum(2* errors * feature)\n",
    "    return(derivative)"
   ]
  },
  {
   "cell_type": "markdown",
   "metadata": {},
   "source": [
    "# Metoda spadku gradientu / gradientu prostego (Gradient Descent)"
   ]
  },
  {
   "cell_type": "markdown",
   "metadata": {},
   "source": [
    "Teraz napiszemy funkcję, która wykonuje spadek gradientu. Podstawową przesłanką jest prosta. Biorąc pod uwagę punkt początkowy, aktualizujemy bieżące wagi, przesuwając się w kierunku ujemnego gradientu. Przypomnijmy, że gradient jest kierunkiem *wzrostu*, a zatem gradient ujemny jest kierunkiem *spadku* i staramy się *zminimalizować* funkcję kosztu.\n",
    "\n",
    "Współczynnik, z jakim poruszamy się w kierunku gradientu ujemnego, nazywa się „rozmiarem kroku” - $\\alpha$. Zatrzymujemy się, gdy jesteśmy „wystarczająco blisko” do rozwiązania optymalnego. Definiujemy to, wymagając, aby wielkość (długość) wektora gradientu była mniejsza niż stała „tolerancja” - $\\epsilon$.\n",
    "\n",
    "Mając to na uwadze, wykonaj poniższą funkcję spadku gradientu poniżej, używając powyższej funkcji pochodnej. Dla każdego kroku zejścia gradientu aktualizujemy wagę każdej funkcji przed obliczeniem naszych kryteriów zatrzymania"
   ]
  },
  {
   "cell_type": "code",
   "execution_count": 22,
   "metadata": {},
   "outputs": [],
   "source": [
    "from math import sqrt # wywołanie funkcji na wektorze [g[0], g[1], g[2]] daje sqrt(g[0]^2 + g[1]^2 + g[2]^2)"
   ]
  },
  {
   "cell_type": "code",
   "execution_count": 23,
   "metadata": {},
   "outputs": [],
   "source": [
    "def regression_gradient_descent(feature_matrix, output, initial_weights, step_size, tolerance):\n",
    "    converged = False \n",
    "    weights = np.array(initial_weights) # miej pewność, że wagi są typu numpy array\n",
    "    while not converged:\n",
    "        # obliczyć prognozy na podstawie feature_matrix i wag za pomocą funkcji predict_output()\n",
    "        predict_output_value =  predict_output(weights,feature_matrix)\n",
    "        # wylicz błąd predykcji jako: predict_output - output\n",
    "        errors = predict_output_value - output\n",
    "    \n",
    "        gradient_sum_squares = 0 # inicjuj sumę pierwiastków gradientów\n",
    "        # chociaż nie osiągnęliśmy jeszcze tolerancji, zaktualizuj wagę każdej funkcji\n",
    "        for i in range(len(weights)): # zapętlenie każdej wagi\n",
    "            # Przypomnij sobie, że feature_matrix [:, i] to kolumna cech powiązana z wagami[i]\n",
    "            # obliczyć pochodną dla wagi[i]:\n",
    "            derivative = feature_derivative(errors, feature_matrix.iloc[:,i])\n",
    "            # dodaj kwadrat wartości pochodnej do sumy kwadratów gradientów (ocena zbieżności) \n",
    "            gradient_sum_squares += derivative**2  \n",
    "            # odejmij wielkość kroku pomnożoną przez pochodną od bieżącej wagi\n",
    "            weights[i] -= step_size * derivative\n",
    "        # oblicz pierwiastek kwadratowy z sumy gradientów kwadratów, aby uzyskać wielkość gradientu:\n",
    "        gradient_magnitude = sqrt(gradient_sum_squares)\n",
    "        if gradient_magnitude < tolerance:\n",
    "            converged = True\n",
    "    return(weights)"
   ]
  },
  {
   "cell_type": "markdown",
   "metadata": {},
   "source": [
    "Kilka rzeczy, na które należy zwrócić uwagę, zanim zaczniemy korzystać z metody spadku gradientu. Ponieważ gradient jest sumą wszystkich punktów danych i obejmuje iloczyn błędu i wartości cechy, sam gradient będzie bardzo duży, ponieważ cechy są duże (stopy kwadratowe), a wynik jest duży (ceny). Tak więc, chociaż można oczekiwać, że „tolerancja” będzie niewielka, mała jest jedynie zależna od wielkości cechy.\n",
    "\n",
    "Z podobnych powodów rozmiar kroku będzie znacznie mniejszy niż można się spodziewać, ale dzieje się tak, ponieważ gradient ma tak duże wartości."
   ]
  },
  {
   "cell_type": "markdown",
   "metadata": {},
   "source": [
    "# Uruchamianie spadku gradientu jako prostej regresji"
   ]
  },
  {
   "cell_type": "markdown",
   "metadata": {},
   "source": [
    "Chociaż opadanie gradientu jest zaprojektowane dla regresji wielorakiej, ponieważ stała jest teraz funkcją, możemy użyć funkcji spadku gradientu do oszacowania parametrów prostej regresji na \"squarefeet\". Następująca komórka ustawia funkcję parametr_macierz, wynik, wagi początkowe i rozmiar kroku dla pierwszego modelu:"
   ]
  },
  {
   "cell_type": "code",
   "execution_count": 24,
   "metadata": {},
   "outputs": [],
   "source": [
    "# test spadku gradientów\n",
    "simple_features = ['sqft_living']\n",
    "my_output = 'price'\n",
    "# (simple_feature_matrix, output) = get_numpy_data(train_data, simple_features, my_output)\n",
    "simple_feature_matrix = X_train[simple_features]\n",
    "simple_feature_matrix.insert(0,'const',1.0,)   # Dodanie \n",
    "output = y_train\n",
    "initial_weights = np.array([-47000., 1.])\n",
    "step_size = 7e-12\n",
    "tolerance = 2.5e7"
   ]
  },
  {
   "cell_type": "markdown",
   "metadata": {},
   "source": [
    "Następnie uruchom gradient z powyższymi parametrami."
   ]
  },
  {
   "cell_type": "code",
   "execution_count": 25,
   "metadata": {},
   "outputs": [
    {
     "data": {
      "text/plain": [
       "[-46999.9, 283.5]"
      ]
     },
     "execution_count": 25,
     "metadata": {},
     "output_type": "execute_result"
    }
   ],
   "source": [
    "simple_weights = [float(f'{x:.01f}') for x in regression_gradient_descent(simple_feature_matrix, output, initial_weights, step_size, tolerance)]\n",
    "simple_weights"
   ]
  },
  {
   "cell_type": "markdown",
   "metadata": {},
   "source": [
    "Porównaj wagi do tych uzyskanych przy pomocy pseudoodwrotności?"
   ]
  },
  {
   "cell_type": "code",
   "execution_count": 26,
   "metadata": {},
   "outputs": [
    {
     "name": "stdout",
     "output_type": "stream",
     "text": [
      "pseudo-reverse weights:  [-48257.1, 284.0]\n",
      "gradent desent weights:  [-46999.9, 283.5]\n",
      "pseudo-reverse SSE: 267780323695881.94\n",
      "gradent desent SSE: 267741860253500.94\n"
     ]
    }
   ],
   "source": [
    "simple_weights_reverse = [float(f'{x:.01f}') for x in model_train(simple_feature_matrix,output)]\n",
    "print('pseudo-reverse weights: ',simple_weights_reverse)\n",
    "print('gradent desent weights: ',simple_weights)\n",
    "x_test_simple_features = X_test[simple_features]\n",
    "x_test_simple_features.insert(0,'const',1)\n",
    "print('pseudo-reverse SSE:',policz_SSE(simple_weights_reverse,x_test_simple_features,y_test) )\n",
    "print('gradent desent SSE:',policz_SSE(simple_weights,x_test_simple_features,y_test))"
   ]
  },
  {
   "cell_type": "markdown",
   "metadata": {},
   "source": [
    "\n",
    "\n",
    "**Pytanie quizu: Jaka jest waga sqft_living - drugi element „simple_weights” (w zaokrągleniu do 1 miejsca po przecinku)?**"
   ]
  },
  {
   "cell_type": "code",
   "execution_count": 27,
   "metadata": {},
   "outputs": [
    {
     "data": {
      "text/plain": [
       "283.5"
      ]
     },
     "execution_count": 27,
     "metadata": {},
     "output_type": "execute_result"
    }
   ],
   "source": [
    "simple_weights[1]"
   ]
  },
  {
   "cell_type": "markdown",
   "metadata": {},
   "source": [
    "Zobacz jak się zachowuje metoda gradientowa po przeskalowaniu wartości cech:"
   ]
  },
  {
   "cell_type": "code",
   "execution_count": 28,
   "metadata": {},
   "outputs": [
    {
     "name": "stdout",
     "output_type": "stream",
     "text": [
      "pseudo-reverse weights: data scaled [-0.005, 0.493]\n",
      "gradent desent weights: data scaled  [-0.005, 0.494]\n",
      "pseudo-reverse SSE: data scaled  4.60933738467692\n",
      "gradent desent SSE: data scaled  4.612724979461017\n"
     ]
    },
    {
     "data": {
      "text/plain": [
       "[-0.005, 0.494]"
      ]
     },
     "execution_count": 28,
     "metadata": {},
     "output_type": "execute_result"
    }
   ],
   "source": [
    "from sklearn.preprocessing import MinMaxScaler\n",
    "scaler = MinMaxScaler()\n",
    "\n",
    "simple_features = ['sqft_living']\n",
    "my_output = 'price'\n",
    "domy_sc  = pd.DataFrame(data= scaler.fit_transform(domy[['sqft_living','price']]),columns= ['sqft_living','price']) # min max skalowanie  \n",
    "X_train_sc, X_test_sc, y_train_sc, y_test_sc = train_test_split(domy_sc[simple_features],  domy_sc[my_output], test_size=0.2, random_state=0)\n",
    "X_train_sc.insert(0,'const',1)\n",
    "initial_weights = np.random.rand(2)\n",
    "step_size = 0.00001\n",
    "tolerance = 0.1\n",
    "\n",
    "simple_weights = [float(f'{x:.03f}') for x in regression_gradient_descent(X_train_sc, y_train_sc, initial_weights, step_size, tolerance)]\n",
    "simple_weights_reverse = [float(f'{x:.03f}') for x in model_train(X_train_sc,y_train_sc)]\n",
    "print('pseudo-reverse weights: data scaled',simple_weights_reverse)\n",
    "print('gradent desent weights: data scaled ',simple_weights)\n",
    "\n",
    "X_test_sc.insert(0,'const',1)\n",
    "print('pseudo-reverse SSE: data scaled ', policz_SSE(simple_weights_reverse,X_test_sc,y_test_sc) )\n",
    "print('gradent desent SSE: data scaled ',policz_SSE(simple_weights,X_test_sc,y_test_sc))\n",
    "simple_weights\n"
   ]
  },
  {
   "cell_type": "markdown",
   "metadata": {},
   "source": [
    "Skalowanie danych daje nastepujace zalety: \n",
    " - Łatwiejszy dobór parametrów poczatkowych  (initial_weights,step_size, tolerance), szczegółnie initial_weights, bo można wziać losowe liczby zakresie 0-1 \n",
    " - Szybsze, obliczanie grandietu "
   ]
  }
 ],
 "metadata": {
  "interpreter": {
   "hash": "a2c1c1381d182544fff2629f9ba6370f5e125fec54a7b11a073fb79b333b6921"
  },
  "kernelspec": {
   "display_name": "Python 3.8.5 64-bit ('numbers-classification': conda)",
   "name": "python3"
  },
  "language_info": {
   "codemirror_mode": {
    "name": "ipython",
    "version": 3
   },
   "file_extension": ".py",
   "mimetype": "text/x-python",
   "name": "python",
   "nbconvert_exporter": "python",
   "pygments_lexer": "ipython3",
   "version": "3.8.5"
  }
 },
 "nbformat": 4,
 "nbformat_minor": 1
}
